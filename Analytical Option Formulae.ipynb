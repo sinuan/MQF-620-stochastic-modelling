{
 "cells": [
  {
   "cell_type": "code",
   "execution_count": 1,
   "id": "569ce51e-a04b-48df-8431-d91d2183b1d7",
   "metadata": {},
   "outputs": [],
   "source": [
    "import numpy as np\n",
    "from scipy.stats import norm"
   ]
  },
  {
   "cell_type": "markdown",
   "id": "e0caa1b0-3e11-4a94-9e93-5c69fef46a0c",
   "metadata": {},
   "source": [
    "# 1. Vanilla"
   ]
  },
  {
   "cell_type": "markdown",
   "id": "2afcf608-84ce-4a7c-a41d-385a40ce6d01",
   "metadata": {},
   "source": [
    "## Black-Scholes Formula"
   ]
  },
  {
   "cell_type": "markdown",
   "id": "ef04ea19-816b-4a70-8666-3d52f00ba157",
   "metadata": {},
   "source": [
    "The Black-Scholes formula for a call option is given by\n",
    "\n",
    "\\begin{equation}\n",
    "\\begin{split}\n",
    "C(S,K,r,\\sigma,T) &= S_0 \\Phi(d_1) - K e^{-rT} \\Phi(d_2)\\\\\n",
    "            d_1 &= \\frac{\\log \\frac{S_0}{K} +\n",
    "            \\left(r+\\frac{\\sigma^2}{2}\\right)T}{\\sigma\\sqrt{T}}, \\hspace{2cm} d_2 = d_1 - \\sigma\\sqrt{T}\\\\\n",
    "\\end{split}            \n",
    "\\end{equation}\n",
    "\n",
    "The formula can be implemented in Python as follows:"
   ]
  },
  {
   "cell_type": "code",
   "execution_count": 5,
   "id": "57aed353-d5f6-495c-8e37-58d4e240dcdd",
   "metadata": {},
   "outputs": [],
   "source": [
    "def BlackScholesCall(S, K, r, sigma, T):\n",
    "    d1 = (np.log(S/K)+(r+sigma**2/2)*T) / (sigma*np.sqrt(T))\n",
    "    d2 = d1 - sigma*np.sqrt(T)\n",
    "    return S*norm.cdf(d1) - K*np.exp(-r*T)*norm.cdf(d2)"
   ]
  },
  {
   "cell_type": "markdown",
   "id": "910adace-2da9-4d8c-833c-43ae0188f5d4",
   "metadata": {},
   "source": [
    "the Black-Scholes formula for a put option is given by\n",
    "\n",
    "\\begin{equation}\n",
    "P(S,K,r,\\sigma,T) = K e^{-rT} \\Phi(-d_2) - S_0 \\Phi(-d_1)\n",
    "\\end{equation}"
   ]
  },
  {
   "cell_type": "code",
   "execution_count": 7,
   "id": "8a9514df-9882-4924-a495-54570858deff",
   "metadata": {},
   "outputs": [],
   "source": [
    "def BlackScholesPut(S, K, r, sigma, T):\n",
    "    d1 = (np.log(S/K)+(r+sigma**2/2)*T) / (sigma*np.sqrt(T))\n",
    "    d2 = d1 - sigma*np.sqrt(T)\n",
    "    return K*np.exp(-r*T)*norm.cdf(-d2) - S*norm.cdf(-d1)"
   ]
  },
  {
   "cell_type": "markdown",
   "id": "4c82d64d-2b8c-444b-ad53-4ef3b8beb9d7",
   "metadata": {},
   "source": [
    "## Bachelier Formula"
   ]
  },
  {
   "cell_type": "markdown",
   "id": "385731ce-ed88-4d0f-8486-c01b22dbe053",
   "metadata": {},
   "source": [
    "The Bachelier formula for a call option is given by\n",
    "\n",
    "\\begin{equation}\n",
    "\\begin{split}\n",
    "C(S,K,r,\\sigma,T) &= e^{-rT} [ (S_0 - K)  \\Phi(d_1) + \\sigma\\sqrt{T} \\phi(d_1)] \\\\\n",
    "            d_1 &= \\frac{S_0 - K}{\\sigma\\sqrt{T}}\\\\\n",
    "\\end{split}            \n",
    "\\end{equation}\n",
    "\n",
    "The formula can be implemented in Python as follows:"
   ]
  },
  {
   "cell_type": "code",
   "execution_count": 10,
   "id": "41faa2a5-326a-43eb-a64a-acfdbf08db72",
   "metadata": {},
   "outputs": [],
   "source": [
    "def BachelierCall(S, K, r, sigma, T):\n",
    "    d1 = (S-K) / (sigma*np.sqrt(T))\n",
    "    return np.exp(-r*T)*( (S-K) *norm.cdf(d1) + sigma * np.sqrt(T) * norm.pdf(d1) )"
   ]
  },
  {
   "cell_type": "markdown",
   "id": "264cea97-adf2-4b9a-bc87-b5a71ec710ee",
   "metadata": {},
   "source": [
    "The Bachelier formula for a put option is given by\n",
    "\n",
    "\\begin{equation}\n",
    "\\begin{split}\n",
    "P(S,K,r,\\sigma,T) &= e^{-rT} [ (K - S_0 )  \\Phi(-d_1) + \\sigma\\sqrt{T} \\phi(d_1)] \\\\\n",
    "\\end{split}            \n",
    "\\end{equation}"
   ]
  },
  {
   "cell_type": "code",
   "execution_count": 12,
   "id": "e32eb377-4101-4944-b268-23cabe47e8cb",
   "metadata": {},
   "outputs": [],
   "source": [
    "def BachelierPut(S, K, r, sigma, T):\n",
    "    d1 = (S-K) / (sigma*np.sqrt(T))\n",
    "    return np.exp(-r*T)*( (K-S) *norm.cdf(-d1) + sigma * np.sqrt(T) * norm.pdf(d1) )"
   ]
  },
  {
   "cell_type": "markdown",
   "id": "823aee8e-1bc4-438d-98a2-9979c273e9ba",
   "metadata": {},
   "source": [
    "## Black Formula"
   ]
  },
  {
   "cell_type": "markdown",
   "id": "93ea4712-1739-42bd-94ba-59fb26269e34",
   "metadata": {},
   "source": [
    "The Black formula for a call option is given by\n",
    "\n",
    "\\begin{equation}\n",
    "\\begin{split}\n",
    "C(F,K,r,\\sigma,T) &= e^{-rT} [ F  \\Phi(d_1) - K \\Phi(d_2)] \\\\\n",
    "            d_1 &= \\frac{\\log \\frac{F}{K} +\n",
    "            \\left(\\frac{\\sigma^2}{2}\\right)T}{\\sigma\\sqrt{T}}, \\hspace{2cm} d_2 = d_1 - \\sigma\\sqrt{T}\\\\\n",
    "\\end{split}            \n",
    "\\end{equation}\n",
    "\n",
    "The formula can be implemented in Python as follows:"
   ]
  },
  {
   "cell_type": "code",
   "execution_count": 15,
   "id": "a01e9c17-8dfb-470f-9974-d5bbde46de6e",
   "metadata": {},
   "outputs": [],
   "source": [
    "def BlackCall(F, K, r, sigma, T):\n",
    "    d1 = (np.log(F/K)+(sigma**2/2)*T) / (sigma*np.sqrt(T))\n",
    "    d2 = d1 - sigma*np.sqrt(T)\n",
    "    return np.exp(-r*T)* (F * norm.cdf(d1) - K*norm.cdf(d2))"
   ]
  },
  {
   "cell_type": "markdown",
   "id": "ff5e7b60-4a9c-4981-b00b-2e8c91c1df27",
   "metadata": {},
   "source": [
    "The Black formula for a put option is given by\n",
    "\n",
    "\\begin{equation}\n",
    "\\begin{split}\n",
    "P(F,K,r,\\sigma,T) &= e^{-rT} [ K  \\Phi(-d_2) - F \\Phi(-d_1)] \\\\\n",
    "\\end{split}            \n",
    "\\end{equation}"
   ]
  },
  {
   "cell_type": "code",
   "execution_count": 17,
   "id": "20ac434b-fdc3-4e6f-9e7d-22f4cf26bd16",
   "metadata": {},
   "outputs": [],
   "source": [
    "def BlackPut(F, K, r, sigma, T):\n",
    "    d1 = (np.log(F/K)+(sigma**2/2)*T) / (sigma*np.sqrt(T))\n",
    "    d2 = d1 - sigma*np.sqrt(T)\n",
    "    return np.exp(-r*T)* (K * norm.cdf(-d2) - F*norm.cdf(-d1))"
   ]
  },
  {
   "cell_type": "markdown",
   "id": "29f660db-663c-4962-b07f-f5ecabb6cd84",
   "metadata": {},
   "source": [
    "## Displaced-Diffusion Formula"
   ]
  },
  {
   "cell_type": "markdown",
   "id": "b2460798-995e-4976-baf6-5184ed449d63",
   "metadata": {},
   "source": [
    "The option price under the displaced-diffusion model is given by\n",
    "\n",
    "\\begin{equation}\n",
    "\\begin{split}\n",
    "Displaced-Diffusion = Black(\\frac{F_0}{\\beta}, K + \\frac{1-\\beta}{\\beta}F_0, \\sigma\\beta, T)\\\\\n",
    "\\end{split}            \n",
    "\\end{equation}\n",
    "\n",
    "The formula can be implemented in Python as follows:"
   ]
  },
  {
   "cell_type": "code",
   "execution_count": 20,
   "id": "d9ddc1cc-a49a-47de-a8eb-95ef5d4b1365",
   "metadata": {},
   "outputs": [],
   "source": [
    "def DDCall(F, K, r, sigma, T, beta):\n",
    "    if beta == 0:\n",
    "        S = F*np.exp(-r*T)\n",
    "        BlackScholesCall(S, K, r, sigma, T)\n",
    "    else:\n",
    "        BlackCall(F/beta, K+((1-beta)/beta)*F, r, sigma*beta, T)\n",
    "\n",
    "def DDPut(F, K, r, sigma, T, beta):\n",
    "    if beta == 0:\n",
    "        S = F*np.exp(-r*T)\n",
    "        BlackScholesPut(S, K, r, sigma, T)\n",
    "    else:\n",
    "        BlackPut(F/beta, K+((1-beta)/beta)*F, r, sigma*beta, T)"
   ]
  },
  {
   "cell_type": "markdown",
   "id": "3e9f87e8-2d87-4754-9712-791061422f73",
   "metadata": {},
   "source": [
    "# Digital Cash or Nothing"
   ]
  },
  {
   "cell_type": "markdown",
   "id": "a80a6090-a345-4545-8891-e8f720bfa839",
   "metadata": {},
   "source": [
    "## Black-Scholes Formula"
   ]
  },
  {
   "cell_type": "markdown",
   "id": "1c8c1f61-37f3-4783-92e2-a2ed3f260520",
   "metadata": {},
   "source": [
    "The Black-Scholes formula for a digital cash or nothing call option is given by\n",
    "\n",
    "\\begin{equation}\n",
    "\\begin{split}\n",
    "C(S,K,r,\\sigma,T) &= e^{-rT} \\Phi(d_1)\\\\\n",
    "            d_1 &= \\frac{\\log \\frac{S_0}{K} +\n",
    "            \\left(r-\\frac{\\sigma^2}{2}\\right)T}{\\sigma\\sqrt{T}}\\\\\n",
    "\\end{split}            \n",
    "\\end{equation}\n",
    "\n",
    "The formula can be implemented in Python as follows:"
   ]
  },
  {
   "cell_type": "code",
   "execution_count": 24,
   "id": "f8fcad73-f1dd-4608-9bbd-ca56ee0d03a5",
   "metadata": {},
   "outputs": [],
   "source": [
    "def CashBlackScholesCall(S, K, r, sigma, T):\n",
    "    d1 = (np.log(S/K)+(r-sigma**2/2)*T) / (sigma*np.sqrt(T))\n",
    "    return np.exp(-r*T)*norm.cdf(d1)"
   ]
  },
  {
   "cell_type": "markdown",
   "id": "c35e2f90-712f-4b8a-b1ae-ffb9c03edca5",
   "metadata": {},
   "source": [
    "the Black-Scholes formula for a digital cash or nothing put option is given by\n",
    "\n",
    "\\begin{equation}\n",
    "P(S,K,r,\\sigma,T) = e^{-rT}\\Phi(-d_1)\n",
    "\\end{equation}"
   ]
  },
  {
   "cell_type": "code",
   "execution_count": 26,
   "id": "7f1f7282-4cd7-4aff-aff7-32df7bdb0ae1",
   "metadata": {},
   "outputs": [],
   "source": [
    "def CashBlackScholesPut(S, K, r, sigma, T):\n",
    "    d1 = (np.log(S/K)+(r-sigma**2/2)*T) / (sigma*np.sqrt(T))\n",
    "    return np.exp(-r*T)*norm.cdf(-d1)"
   ]
  },
  {
   "cell_type": "markdown",
   "id": "b1a6b62e-8fd9-4b30-9fa0-dc915d4d8263",
   "metadata": {},
   "source": [
    "## Bachelier Formula"
   ]
  },
  {
   "cell_type": "markdown",
   "id": "84bacabe-e487-4627-b004-d76d1d7b4f04",
   "metadata": {},
   "source": [
    "The Bachelier formula for a digital cash or nothing call option is given by\n",
    "\n",
    "\\begin{equation}\n",
    "\\begin{split}\n",
    "C(S,K,r,\\sigma,T) &= e^{-rT} \\Phi(d_1) \\\\\n",
    "            d_1 &= \\frac{S_0 - K}{\\sigma\\sqrt{T}}\\\\\n",
    "\\end{split}            \n",
    "\\end{equation}\n",
    "\n",
    "The formula can be implemented in Python as follows:"
   ]
  },
  {
   "cell_type": "code",
   "execution_count": 29,
   "id": "6f4fc9ef-b622-43df-8f48-69d83600bbe5",
   "metadata": {},
   "outputs": [],
   "source": [
    "def CashBachelierCall(S, K, r, sigma, T):\n",
    "    d1 = (S-K) / (sigma*np.sqrt(T))\n",
    "    return np.exp(-r*T)*norm.cdf(d1)"
   ]
  },
  {
   "cell_type": "markdown",
   "id": "1e909657-4334-4173-a535-818f6ee2c09d",
   "metadata": {},
   "source": [
    "The Bachelier formula for a digital cash or nothing  put option is given by\n",
    "\n",
    "\\begin{equation}\n",
    "\\begin{split}\n",
    "P(S,K,r,\\sigma,T) &= e^{-rT} \\Phi(-d_1)\n",
    "\\end{split}            \n",
    "\\end{equation}"
   ]
  },
  {
   "cell_type": "code",
   "execution_count": 31,
   "id": "89595d9e-8dc8-433d-9381-1e7c629706f0",
   "metadata": {},
   "outputs": [],
   "source": [
    "def CashBachelierPut(S, K, r, sigma, T):\n",
    "    d1 = (S-K) / (sigma*np.sqrt(T))\n",
    "    return np.exp(-r*T)*norm.cdf(-d1)"
   ]
  },
  {
   "cell_type": "markdown",
   "id": "5995e20c-5674-473d-a438-804edf276c84",
   "metadata": {},
   "source": [
    "## Black Formula"
   ]
  },
  {
   "cell_type": "markdown",
   "id": "e7c8a35b-1915-4436-99bc-07a9a18b1ca6",
   "metadata": {},
   "source": [
    "The Black formula for a digital cash or nothing call option is given by\n",
    "\n",
    "\\begin{equation}\n",
    "\\begin{split}\n",
    "C(F,K,r,\\sigma,T) &= e^{-rT}\\Phi(d_1) \\\\\n",
    "            d_1 &= \\frac{\\log \\frac{F}{K} -\n",
    "            \\left(\\frac{\\sigma^2}{2}\\right)T}{\\sigma\\sqrt{T}}\\\\\n",
    "\\end{split}            \n",
    "\\end{equation}\n",
    "\n",
    "The formula can be implemented in Python as follows:"
   ]
  },
  {
   "cell_type": "code",
   "execution_count": 34,
   "id": "ee8dda35-da2b-40a2-a4b4-dbe68f4917dc",
   "metadata": {},
   "outputs": [],
   "source": [
    "def CashBlackCall(F, K, r, sigma, T):\n",
    "    d1 = (np.log(F/K)-(sigma**2/2)*T) / (sigma*np.sqrt(T))\n",
    "    return np.exp(-r*T)*norm.cdf(d1)"
   ]
  },
  {
   "cell_type": "markdown",
   "id": "ad8e0f42-8a68-455c-9357-38ddfd66d7e0",
   "metadata": {},
   "source": [
    "The Black formula for a digital cash or nothing put option is given by\n",
    "\n",
    "\\begin{equation}\n",
    "\\begin{split}\n",
    "P(F,K,r,\\sigma,T) &= e^{-rT}\\Phi(-d_1) \\\\\n",
    "\\end{split}            \n",
    "\\end{equation}"
   ]
  },
  {
   "cell_type": "code",
   "execution_count": 36,
   "id": "86a56df4-a92a-4c49-8ae0-662a501fd06a",
   "metadata": {},
   "outputs": [],
   "source": [
    "def CashBlackPut(F, K, r, sigma, T):\n",
    "    d1 = (np.log(F/K)-(sigma**2/2)*T) / (sigma*np.sqrt(T))\n",
    "    return np.exp(-r*T)*norm.cdf(-d1)"
   ]
  },
  {
   "cell_type": "markdown",
   "id": "a7b5f21a-9fd5-4067-9065-0959900f28ad",
   "metadata": {},
   "source": [
    "## Displaced-Diffusion Formula"
   ]
  },
  {
   "cell_type": "markdown",
   "id": "1f8770ce-0a6b-429d-b20e-0d16ada21cd5",
   "metadata": {},
   "source": [
    "The digital cash or nothing option price under the displaced-diffusion model is given by\n",
    "\n",
    "\\begin{equation}\n",
    "\\begin{split}\n",
    "Displaced-Diffusion = Black(\\frac{F_0}{\\beta}, K + \\frac{1-\\beta}{\\beta}F_0, \\sigma\\beta, T)\\\\\n",
    "\\end{split}            \n",
    "\\end{equation}\n",
    "\n",
    "The formula can be implemented in Python as follows:"
   ]
  },
  {
   "cell_type": "code",
   "execution_count": 39,
   "id": "d01bdeed-1dc1-45b8-a344-a8d99f0fb8ab",
   "metadata": {},
   "outputs": [],
   "source": [
    "def CashDDCall(F, K, r, sigma, T, beta):\n",
    "    if beta == 0:\n",
    "        S = F*np.exp(-r*T)\n",
    "        CashBlackScholesCall(S, K, r, sigma, T)\n",
    "    else:\n",
    "        CashBlackCall(F/beta, K+((1-beta)/beta)*F, r, sigma*beta, T)\n",
    "\n",
    "def CashDDPut(F, K, r, sigma, T, beta):\n",
    "    if beta == 0:\n",
    "        S = F*np.exp(-r*T)\n",
    "        CashBlackScholesPut(S, K, r, sigma, T)\n",
    "    else:\n",
    "        CashBlackPut(F/beta, K+((1-beta)/beta)*F, r, sigma*beta, T)"
   ]
  },
  {
   "cell_type": "markdown",
   "id": "b73304dd-0cd8-4e8f-ac7b-4c31ed919fe3",
   "metadata": {},
   "source": [
    "# Digital Asset or Nothing"
   ]
  },
  {
   "cell_type": "markdown",
   "id": "71ce2161-a315-4595-9cc5-e37eab631b3d",
   "metadata": {},
   "source": [
    "The Black-Scholes formula for a digital asset or nothing call option is given by\n",
    "\n",
    "\\begin{equation}\n",
    "\\begin{split}\n",
    "C(S,K,r,\\sigma,T) &= S_0 \\Phi(d_1) \\\\\n",
    "            d_1 &= \\frac{\\log \\frac{S_0}{K} +\n",
    "            \\left(r+\\frac{\\sigma^2}{2}\\right)T}{\\sigma\\sqrt{T}}\\\\\n",
    "\\end{split}            \n",
    "\\end{equation}\n",
    "\n",
    "The formula can be implemented in Python as follows:"
   ]
  },
  {
   "cell_type": "code",
   "execution_count": 42,
   "id": "d8e51c43-bae4-490e-ba2c-76cb9d8236a4",
   "metadata": {},
   "outputs": [],
   "source": [
    "def AssetBlackScholesCall(S, K, r, sigma, T):\n",
    "    d1 = (np.log(S/K)+(r+sigma**2/2)*T) / (sigma*np.sqrt(T))\n",
    "    return S*norm.cdf(d1)"
   ]
  },
  {
   "cell_type": "markdown",
   "id": "a55152df-0807-4101-bcc3-5bc5f0af39c3",
   "metadata": {},
   "source": [
    "the Black-Scholes formula for a digital asset or nothing put option is given by\n",
    "\n",
    "\\begin{equation}\n",
    "P(S,K,r,\\sigma,T) = S_0 \\Phi(-d_1)\n",
    "\\end{equation}"
   ]
  },
  {
   "cell_type": "code",
   "execution_count": 44,
   "id": "dc3a393b-34cb-426f-92c3-407ae37845d4",
   "metadata": {},
   "outputs": [],
   "source": [
    "def AssetBlackScholesPut(S, K, r, sigma, T):\n",
    "    d1 = (np.log(S/K)+(r+sigma**2/2)*T) / (sigma*np.sqrt(T))\n",
    "    return S*norm.cdf(-d1)"
   ]
  },
  {
   "cell_type": "markdown",
   "id": "961fbbf1-2762-44fb-8c9f-0008dafebb7d",
   "metadata": {},
   "source": [
    "## Bachelier Formula"
   ]
  },
  {
   "cell_type": "markdown",
   "id": "59cd2317-6865-4aaa-80a8-a3c1755c1f68",
   "metadata": {},
   "source": [
    "The Bachelier formula for a digital asset or nothing call option is given by\n",
    "\n",
    "\\begin{equation}\n",
    "\\begin{split}\n",
    "C(S,K,r,\\sigma,T) &= e^{-rT} [ S_0 \\Phi(d_1) + \\sigma\\sqrt{T} \\phi(d_1)] \\\\\n",
    "            d_1 &= \\frac{S_0 - K}{\\sigma\\sqrt{T}}\\\\\n",
    "\\end{split}            \n",
    "\\end{equation}\n",
    "\n",
    "The formula can be implemented in Python as follows:"
   ]
  },
  {
   "cell_type": "code",
   "execution_count": 84,
   "id": "b515e870-cf35-40ec-b73f-ab6008da6c74",
   "metadata": {},
   "outputs": [],
   "source": [
    "def AssetBachelierCall(S, K, r, sigma, T):\n",
    "    d1 = (S-K) / (sigma*np.sqrt(T))\n",
    "    return np.exp(-r*T)*(S*norm.cdf(d1) + sigma * np.sqrt(T) * norm.pdf(d1))"
   ]
  },
  {
   "cell_type": "markdown",
   "id": "089390d7-d277-46fe-9658-76d0ecac00b0",
   "metadata": {},
   "source": [
    "The Bachelier formula for a digital asset or nothing put option is given by\n",
    "\n",
    "\\begin{equation}\n",
    "\\begin{split}\n",
    "P(S,K,r,\\sigma,T) &= e^{-rT} [ S_0   \\Phi(-d_1) + \\sigma\\sqrt{T} \\phi(d_1)] \\\\\n",
    "\\end{split}            \n",
    "\\end{equation}"
   ]
  },
  {
   "cell_type": "code",
   "execution_count": 86,
   "id": "420b2785-4a88-4ed1-a86c-8129d5c23c00",
   "metadata": {},
   "outputs": [],
   "source": [
    "def AssetBachelierPut(S, K, r, sigma, T):\n",
    "    d1 = (S-K) / (sigma*np.sqrt(T))\n",
    "    return np.exp(-r*T)*( S *norm.cdf(-d1) + sigma * np.sqrt(T) * norm.pdf(d1) )"
   ]
  },
  {
   "cell_type": "markdown",
   "id": "455545ad-208c-4d06-a238-7d146b7c9df2",
   "metadata": {},
   "source": [
    "## Black Formula"
   ]
  },
  {
   "cell_type": "markdown",
   "id": "edbb0e92-a32c-4fec-a520-db481cb97302",
   "metadata": {},
   "source": [
    "The Black formula for a digital asset or nothing call option is given by\n",
    "\n",
    "\\begin{equation}\n",
    "\\begin{split}\n",
    "C(F,K,r,\\sigma,T) &= e^{-rT} [ F  \\Phi(d_1)] \\\\\n",
    "            d_1 &= \\frac{\\log \\frac{F}{K} +\n",
    "            \\left(\\frac{\\sigma^2}{2}\\right)T}{\\sigma\\sqrt{T}}\\\\\n",
    "\\end{split}            \n",
    "\\end{equation}\n",
    "\n",
    "The formula can be implemented in Python as follows:"
   ]
  },
  {
   "cell_type": "code",
   "execution_count": 52,
   "id": "264c68aa-9b55-4c17-bd7f-1e2013e25d02",
   "metadata": {},
   "outputs": [],
   "source": [
    "def AssetBlackCall(F, K, r, sigma, T):\n",
    "    d1 = (np.log(F/K)+(sigma**2/2)*T) / (sigma*np.sqrt(T))\n",
    "    return np.exp(-r*T)* (F * norm.cdf(d1) )"
   ]
  },
  {
   "cell_type": "markdown",
   "id": "641206ab-9d6b-41d3-90d8-bc534de3bd31",
   "metadata": {},
   "source": [
    "The Black formula for a digital asset or nothing put option is given by\n",
    "\n",
    "\\begin{equation}\n",
    "\\begin{split}\n",
    "P(F,K,r,\\sigma,T) &= e^{-rT} [F \\Phi(-d_1)] \\\\\n",
    "\\end{split}            \n",
    "\\end{equation}"
   ]
  },
  {
   "cell_type": "code",
   "execution_count": 54,
   "id": "555e20ee-f461-4f0e-b094-93bcdd39b12c",
   "metadata": {},
   "outputs": [],
   "source": [
    "def AssetBlackPut(F, K, r, sigma, T):\n",
    "    d1 = (np.log(F/K)+(sigma**2/2)*T) / (sigma*np.sqrt(T))\n",
    "    return np.exp(-r*T)* (F*norm.cdf(-d1))"
   ]
  },
  {
   "cell_type": "markdown",
   "id": "16de8cfb-0444-4db9-a803-177683e8f4bf",
   "metadata": {},
   "source": [
    "## Displaced-Diffusion Formula"
   ]
  },
  {
   "cell_type": "markdown",
   "id": "650ff459-4f3c-4eb7-82d2-8c20565ee1af",
   "metadata": {},
   "source": [
    "The digital asset or nothing option price under the displaced-diffusion model is given by\n",
    "\n",
    "\\begin{equation}\n",
    "\\begin{split}\n",
    "Displaced-Diffusion = Black(\\frac{F_0}{\\beta}, K + \\frac{1-\\beta}{\\beta}F_0, \\sigma\\beta, T)\\\\\n",
    "\\end{split}            \n",
    "\\end{equation}\n",
    "\n",
    "The formula can be implemented in Python as follows:"
   ]
  },
  {
   "cell_type": "code",
   "execution_count": 57,
   "id": "779fd975-faab-4a36-a7c8-39a7c86194be",
   "metadata": {},
   "outputs": [],
   "source": [
    "def AssetDDCall(F, K, r, sigma, T, beta):\n",
    "    if beta == 0:\n",
    "        S = F*np.exp(-r*T)\n",
    "        AssetBlackScholesCall(S, K, r, sigma, T)\n",
    "    else:\n",
    "        AssetBlackCall(F/beta, K+((1-beta)/beta)*F, r, sigma*beta, T)\n",
    "\n",
    "def AssetDDPut(F, K, r, sigma, T, beta):\n",
    "    if beta == 0:\n",
    "        S = F*np.exp(-r*T)\n",
    "        AssetBlackScholesPut(S, K, r, sigma, T)\n",
    "    else:\n",
    "        AssetBlackPut(F/beta, K+((1-beta)/beta)*F, r, sigma*beta, T)"
   ]
  }
 ],
 "metadata": {
  "kernelspec": {
   "display_name": "Python 3 (ipykernel)",
   "language": "python",
   "name": "python3"
  },
  "language_info": {
   "codemirror_mode": {
    "name": "ipython",
    "version": 3
   },
   "file_extension": ".py",
   "mimetype": "text/x-python",
   "name": "python",
   "nbconvert_exporter": "python",
   "pygments_lexer": "ipython3",
   "version": "3.12.4"
  }
 },
 "nbformat": 4,
 "nbformat_minor": 5
}
