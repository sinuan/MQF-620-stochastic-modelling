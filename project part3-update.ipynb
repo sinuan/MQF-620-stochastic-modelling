{
 "cells": [
  {
   "cell_type": "code",
   "execution_count": 3,
   "id": "9ee8e55b",
   "metadata": {},
   "outputs": [
    {
     "name": "stdout",
     "output_type": "stream",
     "text": [
      "Requirement already satisfied: pandas in d:\\anaconda\\conda\\envs\\pydata-book\\lib\\site-packages (2.2.3)\n",
      "Requirement already satisfied: numpy in d:\\anaconda\\conda\\envs\\pydata-book\\lib\\site-packages (2.0.2)\n",
      "Requirement already satisfied: matplotlib in d:\\anaconda\\conda\\envs\\pydata-book\\lib\\site-packages (3.8.4)\n",
      "Requirement already satisfied: python-dateutil>=2.8.2 in d:\\anaconda\\conda\\envs\\pydata-book\\lib\\site-packages (from pandas) (2.9.0)\n",
      "Requirement already satisfied: pytz>=2020.1 in d:\\anaconda\\conda\\envs\\pydata-book\\lib\\site-packages (from pandas) (2024.1)\n",
      "Requirement already satisfied: tzdata>=2022.7 in d:\\anaconda\\conda\\envs\\pydata-book\\lib\\site-packages (from pandas) (2024.1)\n",
      "Requirement already satisfied: contourpy>=1.0.1 in d:\\anaconda\\conda\\envs\\pydata-book\\lib\\site-packages (from matplotlib) (1.2.1)\n",
      "Requirement already satisfied: cycler>=0.10 in d:\\anaconda\\conda\\envs\\pydata-book\\lib\\site-packages (from matplotlib) (0.12.1)\n",
      "Requirement already satisfied: fonttools>=4.22.0 in d:\\anaconda\\conda\\envs\\pydata-book\\lib\\site-packages (from matplotlib) (4.51.0)\n",
      "Requirement already satisfied: kiwisolver>=1.3.1 in d:\\anaconda\\conda\\envs\\pydata-book\\lib\\site-packages (from matplotlib) (1.4.5)\n",
      "Requirement already satisfied: packaging>=20.0 in d:\\anaconda\\conda\\envs\\pydata-book\\lib\\site-packages (from matplotlib) (24.0)\n",
      "Requirement already satisfied: pillow>=8 in d:\\anaconda\\conda\\envs\\pydata-book\\lib\\site-packages (from matplotlib) (10.3.0)\n",
      "Requirement already satisfied: pyparsing>=2.3.1 in d:\\anaconda\\conda\\envs\\pydata-book\\lib\\site-packages (from matplotlib) (3.1.2)\n",
      "Requirement already satisfied: six>=1.5 in d:\\anaconda\\conda\\envs\\pydata-book\\lib\\site-packages (from python-dateutil>=2.8.2->pandas) (1.16.0)\n"
     ]
    }
   ],
   "source": [
    "!pip install pandas numpy matplotlib"
   ]
  },
  {
   "cell_type": "code",
   "execution_count": 11,
   "id": "0cdebd07",
   "metadata": {},
   "outputs": [],
   "source": [
    "import pandas as pd\n",
    "import numpy as np\n",
    "from scipy.stats import norm\n",
    "from scipy.optimize import brentq\n",
    "import matplotlib.pylab as plt\n",
    "from scipy import interpolate\n",
    "import datetime as dt\n",
    "from scipy.integrate import quad"
   ]
  },
  {
   "cell_type": "code",
   "execution_count": 12,
   "id": "412acff6",
   "metadata": {},
   "outputs": [
    {
     "name": "stderr",
     "output_type": "stream",
     "text": [
      "[*********************100%%**********************]  1 of 1 completed\n"
     ]
    },
    {
     "data": {
      "text/html": [
       "<div>\n",
       "<style scoped>\n",
       "    .dataframe tbody tr th:only-of-type {\n",
       "        vertical-align: middle;\n",
       "    }\n",
       "\n",
       "    .dataframe tbody tr th {\n",
       "        vertical-align: top;\n",
       "    }\n",
       "\n",
       "    .dataframe thead th {\n",
       "        text-align: right;\n",
       "    }\n",
       "</style>\n",
       "<table border=\"1\" class=\"dataframe\">\n",
       "  <thead>\n",
       "    <tr style=\"text-align: right;\">\n",
       "      <th></th>\n",
       "      <th>Open</th>\n",
       "      <th>High</th>\n",
       "      <th>Low</th>\n",
       "      <th>Close</th>\n",
       "      <th>Adj Close</th>\n",
       "      <th>Volume</th>\n",
       "    </tr>\n",
       "    <tr>\n",
       "      <th>Date</th>\n",
       "      <th></th>\n",
       "      <th></th>\n",
       "      <th></th>\n",
       "      <th></th>\n",
       "      <th></th>\n",
       "      <th></th>\n",
       "    </tr>\n",
       "  </thead>\n",
       "  <tbody>\n",
       "    <tr>\n",
       "      <th>2020-12-01</th>\n",
       "      <td>3645.870117</td>\n",
       "      <td>3678.449951</td>\n",
       "      <td>3645.870117</td>\n",
       "      <td>3662.449951</td>\n",
       "      <td>3662.449951</td>\n",
       "      <td>5418480000</td>\n",
       "    </tr>\n",
       "  </tbody>\n",
       "</table>\n",
       "</div>"
      ],
      "text/plain": [
       "                   Open         High          Low        Close    Adj Close  \\\n",
       "Date                                                                          \n",
       "2020-12-01  3645.870117  3678.449951  3645.870117  3662.449951  3662.449951   \n",
       "\n",
       "                Volume  \n",
       "Date                    \n",
       "2020-12-01  5418480000  "
      ]
     },
     "execution_count": 12,
     "metadata": {},
     "output_type": "execute_result"
    }
   ],
   "source": [
    "#get our SPX and ATM\n",
    "import yfinance as yf\n",
    "\n",
    "start = dt.datetime(2020, 12, 1)\n",
    "end = dt.datetime(2020, 12, 2)\n",
    "\n",
    "sp500 =\\\n",
    "(    yf\n",
    "     .download(\"^GSPC\",\n",
    "               start,\n",
    "               end)\n",
    ")\n",
    "\n",
    "sp500"
   ]
  },
  {
   "cell_type": "code",
   "execution_count": 123,
   "id": "efceda36",
   "metadata": {},
   "outputs": [],
   "source": [
    "S = 3662.45\n",
    "K = 3660"
   ]
  },
  {
   "cell_type": "code",
   "execution_count": 124,
   "id": "167cc09b",
   "metadata": {},
   "outputs": [],
   "source": [
    "#load data\n",
    "df_rate = pd.read_csv('zero_rates_20201201.csv')\n",
    "\n",
    "df_spx = pd.read_csv('SPX_options.csv')"
   ]
  },
  {
   "cell_type": "code",
   "execution_count": 100,
   "id": "c092b82a",
   "metadata": {},
   "outputs": [
    {
     "data": {
      "text/html": [
       "<div>\n",
       "<style scoped>\n",
       "    .dataframe tbody tr th:only-of-type {\n",
       "        vertical-align: middle;\n",
       "    }\n",
       "\n",
       "    .dataframe tbody tr th {\n",
       "        vertical-align: top;\n",
       "    }\n",
       "\n",
       "    .dataframe thead th {\n",
       "        text-align: right;\n",
       "    }\n",
       "</style>\n",
       "<table border=\"1\" class=\"dataframe\">\n",
       "  <thead>\n",
       "    <tr style=\"text-align: right;\">\n",
       "      <th></th>\n",
       "      <th>date</th>\n",
       "      <th>days</th>\n",
       "      <th>rate</th>\n",
       "    </tr>\n",
       "  </thead>\n",
       "  <tbody>\n",
       "    <tr>\n",
       "      <th>0</th>\n",
       "      <td>20201201</td>\n",
       "      <td>7</td>\n",
       "      <td>0.102280</td>\n",
       "    </tr>\n",
       "    <tr>\n",
       "      <th>1</th>\n",
       "      <td>20201201</td>\n",
       "      <td>13</td>\n",
       "      <td>0.114128</td>\n",
       "    </tr>\n",
       "    <tr>\n",
       "      <th>2</th>\n",
       "      <td>20201201</td>\n",
       "      <td>49</td>\n",
       "      <td>0.216480</td>\n",
       "    </tr>\n",
       "    <tr>\n",
       "      <th>3</th>\n",
       "      <td>20201201</td>\n",
       "      <td>77</td>\n",
       "      <td>0.220707</td>\n",
       "    </tr>\n",
       "    <tr>\n",
       "      <th>4</th>\n",
       "      <td>20201201</td>\n",
       "      <td>104</td>\n",
       "      <td>0.219996</td>\n",
       "    </tr>\n",
       "  </tbody>\n",
       "</table>\n",
       "</div>"
      ],
      "text/plain": [
       "       date  days      rate\n",
       "0  20201201     7  0.102280\n",
       "1  20201201    13  0.114128\n",
       "2  20201201    49  0.216480\n",
       "3  20201201    77  0.220707\n",
       "4  20201201   104  0.219996"
      ]
     },
     "execution_count": 100,
     "metadata": {},
     "output_type": "execute_result"
    }
   ],
   "source": [
    "df_rate.head()"
   ]
  },
  {
   "cell_type": "code",
   "execution_count": 101,
   "id": "dfedd59a",
   "metadata": {},
   "outputs": [
    {
     "data": {
      "text/html": [
       "<div>\n",
       "<style scoped>\n",
       "    .dataframe tbody tr th:only-of-type {\n",
       "        vertical-align: middle;\n",
       "    }\n",
       "\n",
       "    .dataframe tbody tr th {\n",
       "        vertical-align: top;\n",
       "    }\n",
       "\n",
       "    .dataframe thead th {\n",
       "        text-align: right;\n",
       "    }\n",
       "</style>\n",
       "<table border=\"1\" class=\"dataframe\">\n",
       "  <thead>\n",
       "    <tr style=\"text-align: right;\">\n",
       "      <th></th>\n",
       "      <th>date</th>\n",
       "      <th>exdate</th>\n",
       "      <th>cp_flag</th>\n",
       "      <th>strike_price</th>\n",
       "      <th>best_bid</th>\n",
       "      <th>best_offer</th>\n",
       "      <th>exercise_style</th>\n",
       "    </tr>\n",
       "  </thead>\n",
       "  <tbody>\n",
       "    <tr>\n",
       "      <th>0</th>\n",
       "      <td>20201201</td>\n",
       "      <td>20201218</td>\n",
       "      <td>C</td>\n",
       "      <td>100000</td>\n",
       "      <td>3547.6</td>\n",
       "      <td>3570.5</td>\n",
       "      <td>E</td>\n",
       "    </tr>\n",
       "    <tr>\n",
       "      <th>1</th>\n",
       "      <td>20201201</td>\n",
       "      <td>20201218</td>\n",
       "      <td>C</td>\n",
       "      <td>200000</td>\n",
       "      <td>3447.6</td>\n",
       "      <td>3470.5</td>\n",
       "      <td>E</td>\n",
       "    </tr>\n",
       "    <tr>\n",
       "      <th>2</th>\n",
       "      <td>20201201</td>\n",
       "      <td>20201218</td>\n",
       "      <td>C</td>\n",
       "      <td>300000</td>\n",
       "      <td>3347.7</td>\n",
       "      <td>3370.6</td>\n",
       "      <td>E</td>\n",
       "    </tr>\n",
       "    <tr>\n",
       "      <th>3</th>\n",
       "      <td>20201201</td>\n",
       "      <td>20201218</td>\n",
       "      <td>C</td>\n",
       "      <td>400000</td>\n",
       "      <td>3247.7</td>\n",
       "      <td>3270.6</td>\n",
       "      <td>E</td>\n",
       "    </tr>\n",
       "    <tr>\n",
       "      <th>4</th>\n",
       "      <td>20201201</td>\n",
       "      <td>20201218</td>\n",
       "      <td>C</td>\n",
       "      <td>500000</td>\n",
       "      <td>3147.7</td>\n",
       "      <td>3170.6</td>\n",
       "      <td>E</td>\n",
       "    </tr>\n",
       "  </tbody>\n",
       "</table>\n",
       "</div>"
      ],
      "text/plain": [
       "       date    exdate cp_flag  strike_price  best_bid  best_offer  \\\n",
       "0  20201201  20201218       C        100000    3547.6      3570.5   \n",
       "1  20201201  20201218       C        200000    3447.6      3470.5   \n",
       "2  20201201  20201218       C        300000    3347.7      3370.6   \n",
       "3  20201201  20201218       C        400000    3247.7      3270.6   \n",
       "4  20201201  20201218       C        500000    3147.7      3170.6   \n",
       "\n",
       "  exercise_style  \n",
       "0              E  \n",
       "1              E  \n",
       "2              E  \n",
       "3              E  \n",
       "4              E  "
      ]
     },
     "execution_count": 101,
     "metadata": {},
     "output_type": "execute_result"
    }
   ],
   "source": [
    "df_spx.head()"
   ]
  },
  {
   "cell_type": "code",
   "execution_count": 125,
   "id": "fb174346",
   "metadata": {},
   "outputs": [],
   "source": [
    "# Adjust SPX data\n",
    "df_spx['strike_price'] = df_spx['strike_price'] / 1000\n",
    "df_spx['mid_price'] = (df_spx['best_bid'] + df_spx['best_offer']) / 2\n",
    "\n",
    "spx = df_spx[(df_spx['exdate'] == 20210115)]\n",
    "\n",
    "# Time To Maturity\n",
    "today = dt.date(2020, 12, 1)\n",
    "expiry_date = dt.date(2021, 1, 15)\n",
    "T = (expiry_date - today).days / 365.0\n",
    "\n",
    "# Discount Rate Interpolation\n",
    "x = df_rate['days']\n",
    "y = df_rate['rate']\n",
    "f = interpolate.interp1d(x,y)\n",
    "r = f(T * 365) / 100"
   ]
  },
  {
   "cell_type": "code",
   "execution_count": 132,
   "id": "ccb3f7ef",
   "metadata": {},
   "outputs": [
    {
     "data": {
      "text/plain": [
       "np.float64(0.0020510755555555554)"
      ]
     },
     "execution_count": 132,
     "metadata": {},
     "output_type": "execute_result"
    }
   ],
   "source": [
    "r"
   ]
  },
  {
   "cell_type": "markdown",
   "id": "86616b47",
   "metadata": {},
   "source": [
    "### model"
   ]
  },
  {
   "cell_type": "code",
   "execution_count": 103,
   "id": "d5c82fbc",
   "metadata": {},
   "outputs": [],
   "source": [
    "#Black model\n",
    "def BlackScholesCall(S, K, r, sigma, T):\n",
    "    d1 = (np.log(S/K)+(r+sigma**2/2)*T) / (sigma*np.sqrt(T))\n",
    "    d2 = d1 - sigma*np.sqrt(T)\n",
    "    return S*norm.cdf(d1) - K*np.exp(-r*T)*norm.cdf(d2)\n",
    "\n",
    "def BlackScholesPut(S, K, r, sigma, T):\n",
    "    return BlackScholesCall(S, K, r, sigma, T) - S + K*np.exp(-r*T)\n",
    "\n",
    "# Bachelier Model\n",
    "def BachelierCall(S, K, r, sigma, T):\n",
    "    d = (S-K) / (S*sigma*np.sqrt(T))\n",
    "    disc = np.exp(-r*T)\n",
    "    return disc*((S-K)*norm.cdf(d)+S*sigma*np.sqrt(T)*norm.pdf(d))\n",
    "\n",
    "def BachelierPut(S, K, r, sigma, T):\n",
    "    d = (S-K) / (S*sigma*np.sqrt(T))\n",
    "    disc = np.exp(-r*T)\n",
    "    return disc*((K-S)*norm.cdf(-d)+S*sigma*np.sqrt(T)*norm.pdf(-d))\n",
    "\n",
    "# SABR model\n",
    "def SABR(F, K, T, alpha, beta, rho, nu):\n",
    "    X = K\n",
    "    # if K is at-the-money-forward\n",
    "    if abs(F - K) < 1e-12:\n",
    "        numer1 = (((1 - beta)**2)/24)*alpha*alpha/(F**(2 - 2*beta))\n",
    "        numer2 = 0.25*rho*beta*nu*alpha/(F**(1 - beta))\n",
    "        numer3 = ((2 - 3*rho*rho)/24)*nu*nu\n",
    "        VolAtm = alpha*(1 + (numer1 + numer2 + numer3)*T)/(F**(1-beta))\n",
    "        sabrsigma = VolAtm\n",
    "    else:\n",
    "        z = (nu/alpha)*((F*X)**(0.5*(1-beta)))*np.log(F/X)\n",
    "        zhi = np.log((((1 - 2*rho*z + z*z)**0.5) + z - rho)/(1 - rho))\n",
    "        numer1 = (((1 - beta)**2)/24)*((alpha*alpha)/((F*X)**(1 - beta)))\n",
    "        numer2 = 0.25*rho*beta*nu*alpha/((F*X)**((1 - beta)/2))\n",
    "        numer3 = ((2 - 3*rho*rho)/24)*nu*nu\n",
    "        numer = alpha*(1 + (numer1 + numer2 + numer3)*T)*z\n",
    "        denom1 = ((1 - beta)**2/24)*(np.log(F/X))**2\n",
    "        denom2 = (((1 - beta)**4)/1920)*((np.log(F/X))**4)\n",
    "        denom = ((F*X)**((1 - beta)/2))*(1 + denom1 + denom2)*zhi\n",
    "        sabrsigma = numer/denom\n",
    "\n",
    "    return sabrsigma"
   ]
  },
  {
   "cell_type": "markdown",
   "id": "421925f2",
   "metadata": {},
   "source": [
    "## BlackScholes"
   ]
  },
  {
   "cell_type": "code",
   "execution_count": 104,
   "id": "8a8a6718",
   "metadata": {},
   "outputs": [],
   "source": [
    "#Volatility Model for Black\n",
    "def impliedCallVolatility(S, K, r, price, T):\n",
    "    impliedVol = brentq(lambda x: price -\n",
    "                        BlackScholesCall(S, K, r, x, T),\n",
    "                        1e-6, 5)\n",
    "\n",
    "    return impliedVol\n",
    "\n",
    "def impliedPutVolatility(S, K, r, price, T):\n",
    "    impliedVol = brentq(lambda x: price -\n",
    "                        BlackScholesPut(S, K, r, x, T),\n",
    "                        1e-6, 5)\n",
    "\n",
    "    return impliedVol"
   ]
  },
  {
   "cell_type": "code",
   "execution_count": 105,
   "id": "67243b78",
   "metadata": {},
   "outputs": [
    {
     "data": {
      "text/plain": [
       "0.18537188428748586"
      ]
     },
     "execution_count": 105,
     "metadata": {},
     "output_type": "execute_result"
    }
   ],
   "source": [
    "# ATM Volatility\n",
    "atm_call = spx[(spx['strike_price'] == K) & (spx['cp_flag'] == \"C\")]\n",
    "atm_put = spx[(spx['strike_price'] == K) & (spx['cp_flag'] == \"P\")]\n",
    "sigma_call = impliedCallVolatility(S, K, r , atm_call['mid_price'].iloc[0], T)\n",
    "sigma_put = impliedPutVolatility(S, K, r, atm_put['mid_price'].iloc[0], T)\n",
    "sigma = (sigma_call + sigma_put)/2\n",
    "sigma"
   ]
  },
  {
   "cell_type": "code",
   "execution_count": 106,
   "id": "4648cb14",
   "metadata": {},
   "outputs": [
    {
     "name": "stdout",
     "output_type": "stream",
     "text": [
      "The expected integrated variance is: 0.004236501\n"
     ]
    }
   ],
   "source": [
    "def callintegrand(K, S, r, T, sigma):\n",
    "    price = BlackScholesCall(S, K, r, sigma, T) / K**2\n",
    "    return price\n",
    "\n",
    "\n",
    "def putintegrand(K, S, r, T, sigma):\n",
    "    price = BlackScholesPut(S, K, r, sigma, T) / K**2\n",
    "    return price\n",
    "\n",
    "F = S * np.exp(r*T)\n",
    "I_put = quad(lambda x: putintegrand(x, S, r, T, sigma), 0.0, F)\n",
    "I_call = quad(lambda x: callintegrand(x, S, r, T, sigma), F, 5000)\n",
    "E_black_var = 2*np.exp(r*T)*(I_put[0] + I_call[0])\n",
    "print('The expected integrated variance is: %.9f' % E_black_var)"
   ]
  },
  {
   "cell_type": "markdown",
   "id": "e6c0da03",
   "metadata": {},
   "source": [
    "## for the Payoff function:"
   ]
  },
  {
   "cell_type": "markdown",
   "id": "75658b88",
   "metadata": {},
   "source": [
    "$$\n",
    "S_0^{1/3} \\cdot e^{\\left(\\frac{1}{3}r - \\frac{1}{9} \\sigma^2 \\right) T} + 1.5 \\cdot (ln(S_0) + (r - \\frac{1}{2} \\sigma^2) T) + 10\n",
    "$$"
   ]
  },
  {
   "cell_type": "code",
   "execution_count": 107,
   "id": "f8b47fe5",
   "metadata": {},
   "outputs": [
    {
     "name": "stdout",
     "output_type": "stream",
     "text": [
      "Black-Scholes Model Derivating Pricing: 37.714381258\n"
     ]
    }
   ],
   "source": [
    "# Black Scholes Model\n",
    "sigma_BSM = np.sqrt(E_black_var/T)\n",
    "\n",
    "def payoff_bsm(S,r,T,sigma):\n",
    "    payoff = S ** (1/3) * np.exp((1/3) * r * T - (1/9) *sigma ** 2 * T) + 1.5 * (np.log(S) + r * T - 0.5 * (sigma ** 2) * T) + 10\n",
    "    return payoff\n",
    "\n",
    "payoff_bs = payoff_bsm(S,r,T,sigma_BSM)\n",
    "\n",
    "print('Black-Scholes Model Derivating Pricing: %.9f' % payoff_bs)"
   ]
  },
  {
   "cell_type": "markdown",
   "id": "ecb92013",
   "metadata": {},
   "source": [
    "## Bachelier"
   ]
  },
  {
   "cell_type": "code",
   "execution_count": 108,
   "id": "c7d9bb32",
   "metadata": {},
   "outputs": [
    {
     "name": "stdout",
     "output_type": "stream",
     "text": [
      "Bachelier Model Integrated Variance: 0.004263876\n"
     ]
    }
   ],
   "source": [
    "def callintegrandb(K, S, r, T, sigma):\n",
    "    price = BachelierCall(S, K, r, sigma, T) / K**2\n",
    "    return price\n",
    "\n",
    "def putintegrandb(K, S, r, T, sigma):\n",
    "    price = BachelierPut(S, K, r, sigma, T) / K**2\n",
    "    return price\n",
    "\n",
    "F = S * np.exp(r*T)\n",
    "I_put = quad(lambda x: putintegrandb(x, S, r, T, sigma), 0.0, F)\n",
    "I_call = quad(lambda x: callintegrandb(x, S, r, T, sigma), F, 5000)\n",
    "E_bach_var = 2*np.exp(r*T)*(I_put[0] + I_call[0])\n",
    "\n",
    "print('Bachelier Model Integrated Variance: %.9f' % E_bach_var)"
   ]
  },
  {
   "cell_type": "markdown",
   "id": "8e296d86",
   "metadata": {},
   "source": [
    "## for the Payoff function:"
   ]
  },
  {
   "cell_type": "markdown",
   "id": "14207c24",
   "metadata": {},
   "source": [
    "$$\n",
    "(S_0 + \\sigma \\cdot T^{\\frac{1}{2}} \\cdot x) ^{\\frac{1}{3}} + 1.5 \\cdot ln(S_0 + \\sigma \\cdot T^{\\frac{1}{2}} \\cdot x) + 10\n",
    "$$"
   ]
  },
  {
   "cell_type": "markdown",
   "id": "499755b6",
   "metadata": {},
   "source": [
    "$$\n",
    "V0 = e^{(-rT)} \\cdot ((1/2π)^{\\frac{1}{2}}) \\cdot ∫ bachelier(x) dx\n",
    "$$"
   ]
  },
  {
   "cell_type": "code",
   "execution_count": 109,
   "id": "5a40c334",
   "metadata": {},
   "outputs": [
    {
     "name": "stdout",
     "output_type": "stream",
     "text": [
      "Bachelier Model Derivative Pricing: 37.713596817\n"
     ]
    }
   ],
   "source": [
    "# Bachelier Model\n",
    "sigma_B = np.sqrt(E_bach_var/T)\n",
    "\n",
    "x_bachelier = lambda x: (((S + sigma_B*np.sqrt(T)*x)**(1/3))+ (1.5* np.log(S + sigma_B*np.sqrt(T)*x)) + 10) * np.exp(-(x**2/2))\n",
    "x_b,err = quad(x_bachelier, -(np.inf), np.inf)\n",
    "\n",
    "derivative_bachelier = np.exp(-r*T)/np.sqrt(2*np.pi)*x_b\n",
    "\n",
    "print('Bachelier Model Derivative Pricing: %.9f' % derivative_bachelier)"
   ]
  },
  {
   "cell_type": "markdown",
   "id": "2184d809",
   "metadata": {},
   "source": [
    "## SABR"
   ]
  },
  {
   "cell_type": "code",
   "execution_count": 110,
   "id": "b9c94ba9",
   "metadata": {},
   "outputs": [],
   "source": [
    "def SABRCall(S, K, r, alpha, beta, rho, nu, T):\n",
    "    sabr_vol = SABR(S*np.exp(r*T), K, T, alpha, beta, rho, nu)\n",
    "    return BlackScholesCall(S, K, r, sabr_vol, T)\n",
    "\n",
    "\n",
    "def SABRPut(S, K, r, alpha, beta, rho, nu, T):\n",
    "    sabr_vol = SABR(S*np.exp(r*T), K, T, alpha, beta, rho, nu)\n",
    "    return BlackScholesPut(S, K, r, sabr_vol, T)\n",
    "\n",
    "\n",
    "def sabrcallintegrand(K, S, r, T, alpha, beta, rho, nu):\n",
    "    price = SABRCall(S, K, r, alpha, beta, rho, nu, T) / K**2\n",
    "    return price\n",
    "\n",
    "\n",
    "def sabrputintegrand(K, S, r, T, alpha, beta, rho, nu):\n",
    "    price = SABRPut(S, K, r, alpha, beta, rho, nu, T) / K**2\n",
    "    return price"
   ]
  },
  {
   "cell_type": "code",
   "execution_count": 130,
   "id": "712c36dc",
   "metadata": {},
   "outputs": [
    {
     "name": "stderr",
     "output_type": "stream",
     "text": [
      "C:\\Users\\86159\\AppData\\Local\\Temp\\ipykernel_34400\\3075488719.py:21: RuntimeWarning: invalid value encountered in log\n",
      "  zhi = np.log((((1 - 2*rho*z + z*z)**0.5) + z - rho)/(1 - rho))\n",
      "C:\\Users\\86159\\AppData\\Local\\Temp\\ipykernel_34400\\3075488719.py:21: RuntimeWarning: invalid value encountered in scalar power\n",
      "  zhi = np.log((((1 - 2*rho*z + z*z)**0.5) + z - rho)/(1 - rho))\n"
     ]
    },
    {
     "name": "stdout",
     "output_type": "stream",
     "text": [
      "Calibrated SABR model parameters: alpha = 1.817, beta = 0.7, rho = -0.404, nu = 2.790\n"
     ]
    }
   ],
   "source": [
    "# calculate the model parameters\n",
    "from scipy.optimize import least_squares\n",
    "\n",
    "beta = 0.7\n",
    "\n",
    "def sabrcalibration(x, strikes, vols, F, T):\n",
    "    err = 0.0\n",
    "    for i, vol in enumerate(vols):\n",
    "        err += (vol - SABR(F, strikes[i], T,\n",
    "                           x[0], beta, x[1], x[2]))**2\n",
    "\n",
    "    return err\n",
    "\n",
    "\n",
    "def impliedVolatility(S, K, r, price, T, payoff):\n",
    "    try:\n",
    "        if (payoff.lower() == 'call'):\n",
    "            impliedVol = brentq(lambda x: price -\n",
    "                                BlackScholesLognormalCall(S, K, r, x, T),\n",
    "                                1e-12, 10.0)\n",
    "        elif (payoff.lower() == 'put'):\n",
    "            impliedVol = brentq(lambda x: price -\n",
    "                                BlackScholesLognormalPut(S, K, r, x, T),\n",
    "                                1e-12, 10.0)\n",
    "        else:\n",
    "            raise NameError('Payoff type not recognized')\n",
    "    except Exception:\n",
    "        impliedVol = np.nan\n",
    "\n",
    "    return impliedVol\n",
    "\n",
    "\n",
    "def BlackScholesLognormalCall(S, K, r, sigma, T):\n",
    "    d1 = (np.log(S/K)+(r+sigma**2/2)*T) / (sigma*np.sqrt(T))\n",
    "    d2 = d1 - sigma*np.sqrt(T)\n",
    "    return S*norm.cdf(d1) - K*np.exp(-r*T)*norm.cdf(d2)\n",
    "\n",
    "\n",
    "def BlackScholesLognormalPut(S, K, r, sigma, T):\n",
    "    d1 = (np.log(S/K)+(r+sigma**2/2)*T) / (sigma*np.sqrt(T))\n",
    "    d2 = d1 - sigma*np.sqrt(T)\n",
    "    return K*np.exp(-r*T)*norm.cdf(-d2) - S*norm.cdf(-d1)\n",
    "\n",
    "#####\n",
    "# Here, load DataFrame with strike and implied volatility information into \"df\"\n",
    "#####\n",
    "df = spx.copy()\n",
    "df['mid'] = df['mid_price']\n",
    "df['strike'] = df['strike_price']\n",
    "df['payoff'] = df['cp_flag'].map(lambda x: 'call' if x == 'C' else 'put')\n",
    "exdate = sorted(df['exdate'].unique())[0]\n",
    "df = df[df['exdate'] == exdate]\n",
    "days_to_expiry = (pd.Timestamp(str(exdate)) - pd.Timestamp('2020-12-01')).days\n",
    "T = days_to_expiry/365\n",
    "S = 3662.45\n",
    "r = f(T * 365) / 100\n",
    "F = S*np.exp(r*T)\n",
    "\n",
    "\n",
    "df['vols'] = df.apply(lambda x: impliedVolatility(S,\n",
    "                                                  x['strike'],\n",
    "                                                  r,\n",
    "                                                  x['mid'],\n",
    "                                                  T,\n",
    "                                                  x['payoff']),\n",
    "                      axis=1)\n",
    "df.dropna(inplace=True)\n",
    "call_df = df[df['payoff'] == 'call']\n",
    "put_df = df[df['payoff'] == 'put']\n",
    "strikes = put_df['strike'].values\n",
    "impliedvols = []\n",
    "for K in strikes:    \n",
    "    if K > S:\n",
    "        impliedvols.append(call_df[call_df['strike'] == K]['vols'].values[0])\n",
    "    else:\n",
    "        impliedvols.append(put_df[put_df['strike'] == K]['vols'].values[0])\n",
    "\n",
    "# populate \"df\" with the dataframe containing strikes and market implied volatilities\n",
    "df = pd.DataFrame({'strike': strikes, 'impliedvol': impliedvols})\n",
    "\n",
    "initialGuess = [0.02, 0.2, 0.1]\n",
    "res = least_squares(lambda x: sabrcalibration(x,\n",
    "                                              df['strike'],\n",
    "                                              df['impliedvol'],\n",
    "                                              F,\n",
    "                                              T),\n",
    "                    initialGuess)\n",
    "alpha = res.x[0]\n",
    "rho = res.x[1]\n",
    "nu = res.x[2]\n",
    "\n",
    "print('Calibrated SABR model parameters: alpha = %.3f, beta = %.1f, rho = %.3f, nu = %.3f' % (alpha, beta, rho, nu))\n",
    "\n",
    "sabrvols = []\n",
    "for K in strikes:\n",
    "    sabrvols.append(SABR(F, K, T, alpha, beta, rho, nu))"
   ]
  },
  {
   "cell_type": "code",
   "execution_count": 131,
   "id": "ac11c725",
   "metadata": {},
   "outputs": [
    {
     "data": {
      "image/png": "[encoded data removed]",
      "text/plain": [
       "<Figure size 640x480 with 1 Axes>"
      ]
     },
     "metadata": {},
     "output_type": "display_data"
    }
   ],
   "source": [
    "plt.figure(tight_layout=True)\n",
    "plt.plot(strikes, df['impliedvol'], 'gs', label='Market Vols')\n",
    "plt.plot(strikes, sabrvols, 'm--', label='SABR Vols')\n",
    "plt.legend()\n",
    "plt.show()"
   ]
  },
  {
   "cell_type": "code",
   "execution_count": 128,
   "id": "e3dd3676",
   "metadata": {},
   "outputs": [
    {
     "name": "stdout",
     "output_type": "stream",
     "text": [
      "SABR Model Integrated Variance: 0.006337324\n"
     ]
    }
   ],
   "source": [
    "alpha = 1.817\n",
    "beta = 0.7\n",
    "rho = -0.404\n",
    "nu = 2.790\n",
    "\n",
    "F = S * np.exp(r*T)\n",
    "I_put = quad(lambda x: sabrputintegrand(x, S, r, T, alpha, beta, rho, nu), 1e-6, F)\n",
    "I_call = quad(lambda x: sabrcallintegrand(x, S, r, T, alpha, beta, rho, nu), F, 5000)\n",
    "E_var_SABR = 2*np.exp(r*T)*(I_put[0] + I_call[0])\n",
    "\n",
    "print('SABR Model Integrated Variance: %.9f' % E_var_SABR)"
   ]
  },
  {
   "cell_type": "code",
   "execution_count": 129,
   "id": "03a9a20f",
   "metadata": {},
   "outputs": [
    {
     "name": "stdout",
     "output_type": "stream",
     "text": [
      "Bachelier Model Derivative Pricing (SABR): 37.713596817\n",
      "Black-Scholes Model Derivative Pricing (SABR): 37.709209373\n"
     ]
    }
   ],
   "source": [
    "sigma_SABR = np.sqrt(E_var_SABR/T)\n",
    "\n",
    "x_SABR_bachelier = lambda x: (((S + sigma_SABR*np.sqrt(T)*x)**(1/3))+ (1.5* np.log(S + sigma_SABR*np.sqrt(T)*x)) +10 )*np.exp(-(x**2/2))\n",
    "x_SABR,err = quad(x_SABR_bachelier, -(np.inf), np.inf)\n",
    "\n",
    "derivative_SABR_bachelier = np.exp(-r*T)/np.sqrt(2*np.pi)*x_SABR\n",
    "\n",
    "print('Bachelier Model Derivative Pricing (SABR): %.9f' % derivative_SABR_bachelier)\n",
    "\n",
    "payoff_SABR_bs = payoff_bsm(S,r,T,sigma_SABR)\n",
    "\n",
    "print('Black-Scholes Model Derivative Pricing (SABR): %.9f' % payoff_SABR_bs)"
   ]
  },
  {
   "cell_type": "code",
   "execution_count": null,
   "id": "91ae4043",
   "metadata": {},
   "outputs": [],
   "source": []
  }
 ],
 "metadata": {
  "kernelspec": {
   "display_name": "Python 3 (ipykernel)",
   "language": "python",
   "name": "python3"
  },
  "language_info": {
   "codemirror_mode": {
    "name": "ipython",
    "version": 3
   },
   "file_extension": ".py",
   "mimetype": "text/x-python",
   "name": "python",
   "nbconvert_exporter": "python",
   "pygments_lexer": "ipython3",
   "version": "3.11.9"
  }
 },
 "nbformat": 4,
 "nbformat_minor": 5
}
